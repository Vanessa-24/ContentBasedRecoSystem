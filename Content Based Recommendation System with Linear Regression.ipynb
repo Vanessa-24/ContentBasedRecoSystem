{
 "cells": [
  {
   "cell_type": "code",
   "execution_count": 13,
   "metadata": {},
   "outputs": [],
   "source": [
    "# Basic Libraries\n",
    "import numpy as np\n",
    "import pandas as pd\n",
    "import math"
   ]
  },
  {
   "cell_type": "code",
   "execution_count": 14,
   "metadata": {},
   "outputs": [
    {
     "data": {
      "text/html": [
       "<div>\n",
       "<style scoped>\n",
       "    .dataframe tbody tr th:only-of-type {\n",
       "        vertical-align: middle;\n",
       "    }\n",
       "\n",
       "    .dataframe tbody tr th {\n",
       "        vertical-align: top;\n",
       "    }\n",
       "\n",
       "    .dataframe thead th {\n",
       "        text-align: right;\n",
       "    }\n",
       "</style>\n",
       "<table border=\"1\" class=\"dataframe\">\n",
       "  <thead>\n",
       "    <tr style=\"text-align: right;\">\n",
       "      <th></th>\n",
       "      <th>Name</th>\n",
       "      <th>Colour</th>\n",
       "      <th>Shape</th>\n",
       "      <th>Rating</th>\n",
       "    </tr>\n",
       "  </thead>\n",
       "  <tbody>\n",
       "    <tr>\n",
       "      <th>0</th>\n",
       "      <td>Model 1</td>\n",
       "      <td>255,0,0</td>\n",
       "      <td>round</td>\n",
       "      <td>4</td>\n",
       "    </tr>\n",
       "    <tr>\n",
       "      <th>1</th>\n",
       "      <td>Model 2</td>\n",
       "      <td>0,0,255</td>\n",
       "      <td>round</td>\n",
       "      <td>1</td>\n",
       "    </tr>\n",
       "    <tr>\n",
       "      <th>2</th>\n",
       "      <td>Model 3</td>\n",
       "      <td>0,0,0</td>\n",
       "      <td>cat</td>\n",
       "      <td>3</td>\n",
       "    </tr>\n",
       "    <tr>\n",
       "      <th>3</th>\n",
       "      <td>Model 4</td>\n",
       "      <td>255,0,0</td>\n",
       "      <td>oval</td>\n",
       "      <td>5</td>\n",
       "    </tr>\n",
       "    <tr>\n",
       "      <th>4</th>\n",
       "      <td>Model 5</td>\n",
       "      <td>128,0,128</td>\n",
       "      <td>cat</td>\n",
       "      <td>3.5</td>\n",
       "    </tr>\n",
       "    <tr>\n",
       "      <th>5</th>\n",
       "      <td>Model 6</td>\n",
       "      <td>0,0,0</td>\n",
       "      <td>rectangle</td>\n",
       "      <td>3</td>\n",
       "    </tr>\n",
       "    <tr>\n",
       "      <th>6</th>\n",
       "      <td>Model 7</td>\n",
       "      <td>255,20,147</td>\n",
       "      <td>rectangle</td>\n",
       "      <td>4</td>\n",
       "    </tr>\n",
       "  </tbody>\n",
       "</table>\n",
       "</div>"
      ],
      "text/plain": [
       "      Name      Colour      Shape Rating\n",
       "0  Model 1     255,0,0      round      4\n",
       "1  Model 2     0,0,255      round      1\n",
       "2  Model 3       0,0,0        cat      3\n",
       "3  Model 4     255,0,0       oval      5\n",
       "4  Model 5   128,0,128        cat    3.5\n",
       "5  Model 6       0,0,0  rectangle      3\n",
       "6  Model 7  255,20,147  rectangle      4"
      ]
     },
     "execution_count": 14,
     "metadata": {},
     "output_type": "execute_result"
    }
   ],
   "source": [
    "df_user1 = pd.DataFrame([['Model 1','255,0,0', 'round','4'], ['Model 2', '0,0,255', 'round','1'], ['Model 3', '0,0,0','cat','3'],['Model 4','255,0,0','oval','5'],\n",
    "                         ['Model 5', '128,0,128','cat','3.5'],['Model 6', '0,0,0','rectangle','3'],['Model 7', '255,20,147','rectangle','4']],\n",
    "     columns=['Name', 'Colour','Shape','Rating'])\n",
    "df_user1"
   ]
  },
  {
   "cell_type": "code",
   "execution_count": 15,
   "metadata": {},
   "outputs": [
    {
     "data": {
      "text/plain": [
       "'red = RGB(255,0,0)\\nblue = RGB(0,0,255)\\npurple = RGB(128,0,128)\\npink = RGB(255,20,147)\\nblack = RGB(0,0,0)\\ngb = RGB(0,255,255)\\ngreen = RGB(0,255,0)'"
      ]
     },
     "execution_count": 15,
     "metadata": {},
     "output_type": "execute_result"
    }
   ],
   "source": [
    "class RGB:\n",
    "    '''RGB class to handle colour feature'''\n",
    "    def __init__(self,r,g,b):\n",
    "        self.r = r\n",
    "        self.b = b\n",
    "        self.g = g\n",
    "'''red = RGB(255,0,0)\n",
    "blue = RGB(0,0,255)\n",
    "purple = RGB(128,0,128)\n",
    "pink = RGB(255,20,147)\n",
    "black = RGB(0,0,0)\n",
    "gb = RGB(0,255,255)\n",
    "green = RGB(0,255,0)'''       \n"
   ]
  },
  {
   "cell_type": "code",
   "execution_count": 16,
   "metadata": {},
   "outputs": [],
   "source": [
    "#colour_dist_red function get the colour distance of input colour with red. \n",
    "#Colour distance to represent how different/similar two colours are\n",
    "def colour_dist_red(e1):\n",
    "    e2 = RGB(255,0,0)\n",
    "    rmean = (e1.r + e2.r ) // 2\n",
    "    r = int(e1.r - e2.r)\n",
    "    g = int(e1.g - e2.g)\n",
    "    b = int(e1.b - e2.b)\n",
    "    return math.sqrt((((512+rmean)*r*r)>>8) + 4*g*g + (((767-rmean)*b*b)>>8))/764.84\n",
    "\n",
    "def colour_dist_green(e1):\n",
    "    e2 = RGB(0,255,0)\n",
    "    rmean = (e1.r + e2.r ) // 2\n",
    "    r = int(e1.r - e2.r)\n",
    "    g = int(e1.g - e2.g)\n",
    "    b = int(e1.b - e2.b)\n",
    "    return math.sqrt((((512+rmean)*r*r)>>8) + 4*g*g + (((767-rmean)*b*b)>>8))/764.84\n",
    "\n",
    "def colour_dist_blue(e1):\n",
    "    e2 = RGB(0,0,255)\n",
    "    rmean = (e1.r + e2.r ) // 2\n",
    "    r = int(e1.r - e2.r)\n",
    "    g = int(e1.g - e2.g)\n",
    "    b = int(e1.b - e2.b)\n",
    "    return math.sqrt((((512+rmean)*r*r)>>8) + 4*g*g + (((767-rmean)*b*b)>>8))/764.84"
   ]
  },
  {
   "cell_type": "code",
   "execution_count": 17,
   "metadata": {},
   "outputs": [
    {
     "name": "stdout",
     "output_type": "stream",
     "text": [
      "[[1.0, 0.15024, 0.25478], [0.25478, 0.11815, 1.0], [0.47326, 0.33319, 0.42291], [1.0, 0.15024, 0.25478], [0.62753, 0.23543, 0.62753], [0.47326, 0.33319, 0.42291], [0.72321, 0.13546, 0.42551]]\n"
     ]
    }
   ],
   "source": [
    "colour = df_user1[\"Colour\"]\n",
    "colour_dist_list = []\n",
    "for c in colour:\n",
    "    c_list = list(map(int,c.split(\",\")))\n",
    "    #print(c_list)\n",
    "    colour_list =[]\n",
    "    colour_RGB = RGB(c_list[0],c_list[1],c_list[2])\n",
    "    colour_list.append(round(1-colour_dist_red(colour_RGB),5))\n",
    "    colour_list.append(round(1-colour_dist_green(colour_RGB),5))\n",
    "    colour_list.append(round(1-colour_dist_blue(colour_RGB),5))\n",
    "    colour_dist_list.append(colour_list)\n",
    "    \n",
    "print(colour_dist_list)"
   ]
  },
  {
   "cell_type": "code",
   "execution_count": 18,
   "metadata": {},
   "outputs": [
    {
     "data": {
      "text/html": [
       "<div>\n",
       "<style scoped>\n",
       "    .dataframe tbody tr th:only-of-type {\n",
       "        vertical-align: middle;\n",
       "    }\n",
       "\n",
       "    .dataframe tbody tr th {\n",
       "        vertical-align: top;\n",
       "    }\n",
       "\n",
       "    .dataframe thead th {\n",
       "        text-align: right;\n",
       "    }\n",
       "</style>\n",
       "<table border=\"1\" class=\"dataframe\">\n",
       "  <thead>\n",
       "    <tr style=\"text-align: right;\">\n",
       "      <th></th>\n",
       "      <th>Name</th>\n",
       "      <th>Shape</th>\n",
       "      <th>Rating</th>\n",
       "      <th>sim_R</th>\n",
       "      <th>sim_G</th>\n",
       "      <th>sim_B</th>\n",
       "    </tr>\n",
       "  </thead>\n",
       "  <tbody>\n",
       "    <tr>\n",
       "      <th>0</th>\n",
       "      <td>Model 1</td>\n",
       "      <td>round</td>\n",
       "      <td>4</td>\n",
       "      <td>1.00000</td>\n",
       "      <td>0.15024</td>\n",
       "      <td>0.25478</td>\n",
       "    </tr>\n",
       "    <tr>\n",
       "      <th>1</th>\n",
       "      <td>Model 2</td>\n",
       "      <td>round</td>\n",
       "      <td>1</td>\n",
       "      <td>0.25478</td>\n",
       "      <td>0.11815</td>\n",
       "      <td>1.00000</td>\n",
       "    </tr>\n",
       "    <tr>\n",
       "      <th>2</th>\n",
       "      <td>Model 3</td>\n",
       "      <td>cat</td>\n",
       "      <td>3</td>\n",
       "      <td>0.47326</td>\n",
       "      <td>0.33319</td>\n",
       "      <td>0.42291</td>\n",
       "    </tr>\n",
       "    <tr>\n",
       "      <th>3</th>\n",
       "      <td>Model 4</td>\n",
       "      <td>oval</td>\n",
       "      <td>5</td>\n",
       "      <td>1.00000</td>\n",
       "      <td>0.15024</td>\n",
       "      <td>0.25478</td>\n",
       "    </tr>\n",
       "    <tr>\n",
       "      <th>4</th>\n",
       "      <td>Model 5</td>\n",
       "      <td>cat</td>\n",
       "      <td>3.5</td>\n",
       "      <td>0.62753</td>\n",
       "      <td>0.23543</td>\n",
       "      <td>0.62753</td>\n",
       "    </tr>\n",
       "    <tr>\n",
       "      <th>5</th>\n",
       "      <td>Model 6</td>\n",
       "      <td>rectangle</td>\n",
       "      <td>3</td>\n",
       "      <td>0.47326</td>\n",
       "      <td>0.33319</td>\n",
       "      <td>0.42291</td>\n",
       "    </tr>\n",
       "    <tr>\n",
       "      <th>6</th>\n",
       "      <td>Model 7</td>\n",
       "      <td>rectangle</td>\n",
       "      <td>4</td>\n",
       "      <td>0.72321</td>\n",
       "      <td>0.13546</td>\n",
       "      <td>0.42551</td>\n",
       "    </tr>\n",
       "  </tbody>\n",
       "</table>\n",
       "</div>"
      ],
      "text/plain": [
       "      Name      Shape Rating    sim_R    sim_G    sim_B\n",
       "0  Model 1      round      4  1.00000  0.15024  0.25478\n",
       "1  Model 2      round      1  0.25478  0.11815  1.00000\n",
       "2  Model 3        cat      3  0.47326  0.33319  0.42291\n",
       "3  Model 4       oval      5  1.00000  0.15024  0.25478\n",
       "4  Model 5        cat    3.5  0.62753  0.23543  0.62753\n",
       "5  Model 6  rectangle      3  0.47326  0.33319  0.42291\n",
       "6  Model 7  rectangle      4  0.72321  0.13546  0.42551"
      ]
     },
     "execution_count": 18,
     "metadata": {},
     "output_type": "execute_result"
    }
   ],
   "source": [
    "df_user1_RGBSim = pd.DataFrame(colour_dist_list,columns=[\"sim_R\",\"sim_G\",\"sim_B\"])\n",
    "df_user1_NC = df_user1.drop(columns = \"Colour\")\n",
    "df_user1_RGBSim = df_user1_RGBSim.reset_index(drop=True)\n",
    "df_user1_newC = pd.concat([df_user1_NC,df_user1_RGBSim], axis=1)\n",
    "df_user1_newC"
   ]
  },
  {
   "cell_type": "code",
   "execution_count": 19,
   "metadata": {},
   "outputs": [],
   "source": [
    "# Extract Response and Predictors\n",
    "df_shape = pd.get_dummies(df_user1[\"Shape\"])\n",
    "df_features = df_user1_newC = pd.concat([df_shape,df_user1_RGBSim], axis=1)\n",
    "df_rating = pd.DataFrame(df_user1[\"Rating\"])"
   ]
  },
  {
   "cell_type": "code",
   "execution_count": 25,
   "metadata": {},
   "outputs": [
    {
     "name": "stdout",
     "output_type": "stream",
     "text": [
      "Train Set : (5, 1) (5, 7)\n",
      "Test Set  : (2, 1) (2, 7)\n"
     ]
    }
   ],
   "source": [
    "# Import train_test_split from sklearn\n",
    "from sklearn.model_selection import train_test_split\n",
    "\n",
    "# Split the Dataset into Train and Test\n",
    "features_train, features_test, rating_train, rating_test = train_test_split(df_features, df_rating, test_size = 0.25)\n",
    "\n",
    "# Check the sample sizes\n",
    "print(\"Train Set :\", rating_train.shape, features_train.shape)\n",
    "print(\"Test Set  :\", rating_test.shape,features_test.shape)"
   ]
  },
  {
   "cell_type": "code",
   "execution_count": 26,
   "metadata": {},
   "outputs": [
    {
     "name": "stdout",
     "output_type": "stream",
     "text": [
      "Intercept of Regression \t: b =  [1.41431341]\n",
      "Coefficients of Regression \t: a =  [[ 3.55102598e-01  9.99200722e-16  3.55102598e-01 -7.10205197e-01\n",
      "   3.52748434e+00 -6.49261464e-01 -5.26130435e-01]]\n",
      "\n"
     ]
    },
    {
     "data": {
      "text/html": [
       "<div>\n",
       "<style scoped>\n",
       "    .dataframe tbody tr th:only-of-type {\n",
       "        vertical-align: middle;\n",
       "    }\n",
       "\n",
       "    .dataframe tbody tr th {\n",
       "        vertical-align: top;\n",
       "    }\n",
       "\n",
       "    .dataframe thead th {\n",
       "        text-align: right;\n",
       "    }\n",
       "</style>\n",
       "<table border=\"1\" class=\"dataframe\">\n",
       "  <thead>\n",
       "    <tr style=\"text-align: right;\">\n",
       "      <th></th>\n",
       "      <th>Predictors</th>\n",
       "      <th>Coefficients</th>\n",
       "    </tr>\n",
       "  </thead>\n",
       "  <tbody>\n",
       "    <tr>\n",
       "      <th>0</th>\n",
       "      <td>cat</td>\n",
       "      <td>3.551026e-01</td>\n",
       "    </tr>\n",
       "    <tr>\n",
       "      <th>1</th>\n",
       "      <td>oval</td>\n",
       "      <td>9.992007e-16</td>\n",
       "    </tr>\n",
       "    <tr>\n",
       "      <th>2</th>\n",
       "      <td>rectangle</td>\n",
       "      <td>3.551026e-01</td>\n",
       "    </tr>\n",
       "    <tr>\n",
       "      <th>3</th>\n",
       "      <td>round</td>\n",
       "      <td>-7.102052e-01</td>\n",
       "    </tr>\n",
       "    <tr>\n",
       "      <th>4</th>\n",
       "      <td>sim_R</td>\n",
       "      <td>3.527484e+00</td>\n",
       "    </tr>\n",
       "    <tr>\n",
       "      <th>5</th>\n",
       "      <td>sim_G</td>\n",
       "      <td>-6.492615e-01</td>\n",
       "    </tr>\n",
       "    <tr>\n",
       "      <th>6</th>\n",
       "      <td>sim_B</td>\n",
       "      <td>-5.261304e-01</td>\n",
       "    </tr>\n",
       "  </tbody>\n",
       "</table>\n",
       "</div>"
      ],
      "text/plain": [
       "  Predictors  Coefficients\n",
       "0        cat  3.551026e-01\n",
       "1       oval  9.992007e-16\n",
       "2  rectangle  3.551026e-01\n",
       "3      round -7.102052e-01\n",
       "4      sim_R  3.527484e+00\n",
       "5      sim_G -6.492615e-01\n",
       "6      sim_B -5.261304e-01"
      ]
     },
     "execution_count": 26,
     "metadata": {},
     "output_type": "execute_result"
    }
   ],
   "source": [
    "# Import LinearRegression model from Scikit-Learn\n",
    "from sklearn.linear_model import LinearRegression\n",
    "\n",
    "\n",
    "# Linear Regression using Train Data\n",
    "linreg = LinearRegression()         # create the linear regression object\n",
    "linreg.fit(features_train, rating_train)        # train the linear regression model\n",
    "\n",
    "# Coefficients of the Linear Regression line\n",
    "print('Intercept of Regression \\t: b = ', linreg.intercept_)\n",
    "print('Coefficients of Regression \\t: a = ', linreg.coef_)\n",
    "print()\n",
    "\n",
    "# Print the Coefficients against Predictors\n",
    "pd.DataFrame(list(zip(features_train.columns, linreg.coef_[0])), columns = [\"Predictors\", \"Coefficients\"])"
   ]
  },
  {
   "cell_type": "code",
   "execution_count": 27,
   "metadata": {},
   "outputs": [
    {
     "data": {
      "text/plain": [
       "array([[4.00870524],\n",
       "       [4.7102052 ]])"
      ]
     },
     "execution_count": 27,
     "metadata": {},
     "output_type": "execute_result"
    }
   ],
   "source": [
    "# Predict the Total values from Predictors\n",
    "rating_train_pred = linreg.predict(features_train)\n",
    "rating_test_pred = linreg.predict(features_test)\n",
    "rating_test_pred"
   ]
  },
  {
   "cell_type": "code",
   "execution_count": 28,
   "metadata": {},
   "outputs": [
    {
     "name": "stdout",
     "output_type": "stream",
     "text": [
      "Actual rating is: 4 5 \n",
      "\n",
      "Predicted rating is: [[4.00870524]\n",
      " [4.7102052 ]]\n"
     ]
    }
   ],
   "source": [
    "rating_test_actual = \"\"\n",
    "for idx in features_test.index:\n",
    "    rating_test_actual += df_user1.iloc[idx]['Rating'] + \" \"\n",
    "print(f'Actual rating is: {rating_test_actual}')\n",
    "print()\n",
    "print(f'Predicted rating is: {rating_test_pred}')"
   ]
  },
  {
   "cell_type": "code",
   "execution_count": 29,
   "metadata": {},
   "outputs": [
    {
     "name": "stdout",
     "output_type": "stream",
     "text": [
      "Goodness of Fit of Model \tTrain Dataset\n",
      "Explained Variance (R^2) \t: 1.0\n",
      "Mean Squared Error (MSE) \t: 3.1554436208840474e-31\n",
      "\n",
      "Goodness of Fit of Model \tTest Dataset\n",
      "Explained Variance (R^2) \t: 0.8318863813508859\n",
      "Mean Squared Error (MSE) \t: 0.042028404662278515\n",
      "\n"
     ]
    }
   ],
   "source": [
    "# Import mean_squared_error from sklearn\n",
    "from sklearn.metrics import mean_squared_error\n",
    "\n",
    "# Check the Goodness of Fit (on Train Data)\n",
    "print(\"Goodness of Fit of Model \\tTrain Dataset\")\n",
    "print(\"Explained Variance (R^2) \\t:\", linreg.score(features_train, rating_train))\n",
    "print(\"Mean Squared Error (MSE) \\t:\", mean_squared_error(rating_train, rating_train_pred))\n",
    "print()\n",
    "\n",
    "# Check the Goodness of Fit (on Test Data)\n",
    "print(\"Goodness of Fit of Model \\tTest Dataset\")\n",
    "print(\"Explained Variance (R^2) \\t:\", linreg.score(features_test,rating_test))\n",
    "print(\"Mean Squared Error (MSE) \\t:\", mean_squared_error(rating_test,rating_test_pred))\n",
    "print()"
   ]
  },
  {
   "cell_type": "code",
   "execution_count": null,
   "metadata": {},
   "outputs": [],
   "source": []
  }
 ],
 "metadata": {
  "kernelspec": {
   "display_name": "Python 3",
   "language": "python",
   "name": "python3"
  },
  "language_info": {
   "codemirror_mode": {
    "name": "ipython",
    "version": 3
   },
   "file_extension": ".py",
   "mimetype": "text/x-python",
   "name": "python",
   "nbconvert_exporter": "python",
   "pygments_lexer": "ipython3",
   "version": "3.7.6"
  }
 },
 "nbformat": 4,
 "nbformat_minor": 4
}
